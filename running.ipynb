{
 "cells": [
  {
   "cell_type": "code",
   "execution_count": 138,
   "metadata": {
    "scrolled": false
   },
   "outputs": [
    {
     "name": "stdout",
     "output_type": "stream",
     "text": [
      "The autoreload extension is already loaded. To reload it, use:\n",
      "  %reload_ext autoreload\n",
      "\u001b[KArena.playGames |################################| (30/30) Eps Time: 0.009s | Total: 0:00:00 | ETA: 0:00:01Arena.playGames |###########################     | (26/30) Eps Time: 0.009s | Total: 0:00:00 | ETA: 0:00:01\n",
      "\u001b[?25h(14, 16, 0)\n"
     ]
    }
   ],
   "source": [
    "%load_ext autoreload\n",
    "%autoreload 2\n",
    "\n",
    "\n",
    "import Arena\n",
    "#from MCTS import MCTS\n",
    "from connect4.Connect4Game import Connect4Game, display\n",
    "from connect4.Connect4Players import *\n",
    "from Qlearning import QLearningPlayer \n",
    "import numpy as np\n",
    "from utils import *\n",
    "\n",
    "\"\"\"\n",
    "use this script to play any two agents against each other, or play manually with\n",
    "any agent.\n",
    "\"\"\"\n",
    "g = Connect4Game(6)\n",
    "\n",
    "# all players\n",
    "rp = RandomPlayer(g).play\n",
    "ql = QLearningPlayer(g).learning\n",
    "#gp = GreedyOthelloPlayer(g).play\n",
    "#hp = HumanConnect4Player(g).play\n",
    "\n",
    "op=OneStepLookaheadConnect4Player(g).play\n",
    "\n",
    "# arena_rp_op = Arena.Arena(rp, op, g, display=display)\n",
    "# print(arena_rp_op.playGames(2, verbose=True))\n",
    "\n",
    "# arena_rp_hp = Arena.Arena(rp, hp, g, display=display)\n",
    "# print(arena_rp_hp.playGames(2, verbose=True))\n",
    "\n",
    "arena_rp_hp = Arena.Arena(rp, ql, g, display=display)\n",
    "print(arena_rp_hp.playGames(30, verbose=False))"
   ]
  },
  {
   "cell_type": "code",
   "execution_count": null,
   "metadata": {},
   "outputs": [],
   "source": []
  },
  {
   "cell_type": "code",
   "execution_count": 91,
   "metadata": {},
   "outputs": [
    {
     "data": {
      "text/plain": [
       "1"
      ]
     },
     "execution_count": 91,
     "metadata": {},
     "output_type": "execute_result"
    }
   ],
   "source": [
    "# a=np.zeros([6,7])\n",
    "# q={}\n",
    "# b=tuple(map(tuple,a))\n",
    "# q[(b,3)]=1\n",
    "# q.get((b,3))"
   ]
  },
  {
   "cell_type": "code",
   "execution_count": null,
   "metadata": {},
   "outputs": [],
   "source": []
  },
  {
   "cell_type": "code",
   "execution_count": 110,
   "metadata": {},
   "outputs": [
    {
     "name": "stdout",
     "output_type": "stream",
     "text": [
      "malavika\n",
      "anael\n"
     ]
    },
    {
     "name": "stderr",
     "output_type": "stream",
     "text": [
      "[autoreload of Arena failed: Traceback (most recent call last):\n",
      "  File \"/Users/malavikavijayendravasist/anaconda3/lib/python3.6/site-packages/IPython/extensions/autoreload.py\", line 244, in check\n",
      "    superreload(m, reload, self.old_objects)\n",
      "  File \"/Users/malavikavijayendravasist/anaconda3/lib/python3.6/site-packages/IPython/extensions/autoreload.py\", line 374, in superreload\n",
      "    module = reload(module)\n",
      "  File \"/Users/malavikavijayendravasist/anaconda3/lib/python3.6/imp.py\", line 315, in reload\n",
      "    return importlib.reload(module)\n",
      "  File \"/Users/malavikavijayendravasist/anaconda3/lib/python3.6/importlib/__init__.py\", line 166, in reload\n",
      "    _bootstrap._exec(spec, module)\n",
      "  File \"<frozen importlib._bootstrap>\", line 618, in _exec\n",
      "  File \"<frozen importlib._bootstrap_external>\", line 674, in exec_module\n",
      "  File \"<frozen importlib._bootstrap_external>\", line 781, in get_code\n",
      "  File \"<frozen importlib._bootstrap_external>\", line 741, in source_to_code\n",
      "  File \"<frozen importlib._bootstrap>\", line 219, in _call_with_frames_removed\n",
      "  File \"/Users/malavikavijayendravasist/Desktop/courses/RL/Assignment/Arena.py\", line 122\n",
      "    \n",
      "    ^\n",
      "SyntaxError: unexpected EOF while parsing\n",
      "]\n"
     ]
    }
   ],
   "source": [
    "print('malavika')\n",
    "print('anael')"
   ]
  },
  {
   "cell_type": "code",
   "execution_count": null,
   "metadata": {},
   "outputs": [],
   "source": []
  }
 ],
 "metadata": {
  "kernelspec": {
   "display_name": "Python 3",
   "language": "python",
   "name": "python3"
  },
  "language_info": {
   "codemirror_mode": {
    "name": "ipython",
    "version": 3
   },
   "file_extension": ".py",
   "mimetype": "text/x-python",
   "name": "python",
   "nbconvert_exporter": "python",
   "pygments_lexer": "ipython3",
   "version": "3.6.8"
  }
 },
 "nbformat": 4,
 "nbformat_minor": 2
}
